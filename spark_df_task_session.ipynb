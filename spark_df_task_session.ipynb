{
 "cells": [
  {
   "cell_type": "code",
   "execution_count": 1,
   "id": "909aa710",
   "metadata": {},
   "outputs": [],
   "source": [
    "import pyspark\n",
    "import pyspark.sql.functions as f"
   ]
  },
  {
   "cell_type": "markdown",
   "id": "3ab42fc2",
   "metadata": {},
   "source": [
    "#1. Read the CSV file provided into a Spark DataFrame."
   ]
  },
  {
   "cell_type": "code",
   "execution_count": 2,
   "id": "bb240af5",
   "metadata": {},
   "outputs": [],
   "source": [
    "\n",
    "\n",
    "from pyspark.sql import SparkSession\n",
    "import pyspark.sql.functions as f\n",
    "\n",
    "# Create SparkSession\n",
    "spark = (SparkSession.builder \n",
    "    .appName(\"TitanicAnalysis\") \n",
    "    .master(\"spark://spark:7077\")  \n",
    "    .getOrCreate())\n",
    "\n",
    "\n"
   ]
  },
  {
   "cell_type": "code",
   "execution_count": 4,
   "id": "15130798",
   "metadata": {},
   "outputs": [
    {
     "name": "stdout",
     "output_type": "stream",
     "text": [
      "+-----------+--------+------+--------------------+------+----+-----+-----+----------------+-------+-----+--------+\n",
      "|PassengerId|Survived|Pclass|                Name|gender| Age|SibSp|Parch|          Ticket|   Fare|Cabin|Embarked|\n",
      "+-----------+--------+------+--------------------+------+----+-----+-----+----------------+-------+-----+--------+\n",
      "|          1|       0|     3|Braund, Mr. Owen ...|  male|22.0|    1|    0|       A/5 21171|   7.25| NULL|       S|\n",
      "|          2|       1|     1|Cumings, Mrs. Joh...|female|38.0|    1|    0|        PC 17599|71.2833|  C85|       C|\n",
      "|          3|       1|     3|Heikkinen, Miss. ...|female|26.0|    0|    0|STON/O2. 3101282|  7.925| NULL|       S|\n",
      "|          4|       1|     1|Futrelle, Mrs. Ja...|female|35.0|    1|    0|          113803|   53.1| C123|       S|\n",
      "|          5|       0|     3|Allen, Mr. Willia...|  male|35.0|    0|    0|          373450|   8.05| NULL|       S|\n",
      "+-----------+--------+------+--------------------+------+----+-----+-----+----------------+-------+-----+--------+\n",
      "only showing top 5 rows\n",
      "\n",
      "root\n",
      " |-- PassengerId: integer (nullable = true)\n",
      " |-- Survived: integer (nullable = true)\n",
      " |-- Pclass: integer (nullable = true)\n",
      " |-- Name: string (nullable = true)\n",
      " |-- gender: string (nullable = true)\n",
      " |-- Age: double (nullable = true)\n",
      " |-- SibSp: integer (nullable = true)\n",
      " |-- Parch: integer (nullable = true)\n",
      " |-- Ticket: string (nullable = true)\n",
      " |-- Fare: double (nullable = true)\n",
      " |-- Cabin: string (nullable = true)\n",
      " |-- Embarked: string (nullable = true)\n",
      "\n"
     ]
    }
   ],
   "source": [
    "# Read CSV (use container path if inside Docker)\n",
    "df = spark.read.csv(\"/data/titanic.csv\", header=True, inferSchema=True)\n",
    "\n",
    "df.show(5)\n",
    "df.printSchema()"
   ]
  },
  {
   "cell_type": "markdown",
   "id": "9ed3f66a",
   "metadata": {},
   "source": [
    "2. Count the number of males and females who had their Cabin as null."
   ]
  },
  {
   "cell_type": "code",
   "execution_count": 5,
   "id": "f344963d",
   "metadata": {},
   "outputs": [
    {
     "name": "stdout",
     "output_type": "stream",
     "text": [
      "+------+-----+\n",
      "|gender|count|\n",
      "+------+-----+\n",
      "|female|  217|\n",
      "|  male|  470|\n",
      "+------+-----+\n",
      "\n"
     ]
    }
   ],
   "source": [
    "df.filter(f.col(\"Cabin\").isNull()).groupby(\"gender\").count().show()"
   ]
  },
  {
   "cell_type": "markdown",
   "id": "4b1662dc",
   "metadata": {},
   "source": [
    "3. Find the average ages of passengers."
   ]
  },
  {
   "cell_type": "code",
   "execution_count": 6,
   "id": "db41942e",
   "metadata": {},
   "outputs": [
    {
     "name": "stdout",
     "output_type": "stream",
     "text": [
      "+------+------------------+\n",
      "|gender|       Average Age|\n",
      "+------+------------------+\n",
      "|female|27.915708812260537|\n",
      "|  male| 30.72664459161148|\n",
      "+------+------------------+\n",
      "\n"
     ]
    }
   ],
   "source": [
    "df.groupBy(\"gender\").agg(f.avg(\"Age\").alias(\"Average Age\")).show()"
   ]
  },
  {
   "cell_type": "code",
   "execution_count": 7,
   "id": "c913b7f2",
   "metadata": {},
   "outputs": [
    {
     "name": "stdout",
     "output_type": "stream",
     "text": [
      "+-----------------+\n",
      "|      Average Age|\n",
      "+-----------------+\n",
      "|29.69911764705882|\n",
      "+-----------------+\n",
      "\n"
     ]
    }
   ],
   "source": [
    "average_age =df.select(f.avg(\"Age\").alias(\"Average Age\"))\n",
    "average_age.show()\n"
   ]
  },
  {
   "cell_type": "markdown",
   "id": "4d3ea227",
   "metadata": {},
   "source": [
    "4. Fill in the missing age values with this average value."
   ]
  },
  {
   "cell_type": "code",
   "execution_count": 8,
   "id": "ba8aca6f",
   "metadata": {},
   "outputs": [
    {
     "data": {
      "text/plain": [
       "177"
      ]
     },
     "execution_count": 8,
     "metadata": {},
     "output_type": "execute_result"
    }
   ],
   "source": [
    "df.filter(f.col(\"Age\").isNull()).count()"
   ]
  },
  {
   "cell_type": "code",
   "execution_count": 9,
   "id": "8be6778a",
   "metadata": {},
   "outputs": [
    {
     "name": "stdout",
     "output_type": "stream",
     "text": [
      "Mean Age: 29.69911764705882\n"
     ]
    }
   ],
   "source": [
    "mean_age = df.select(f.avg(\"Age\")).collect()[0][0]\n",
    "print(\"Mean Age:\", mean_age)\n",
    "\n",
    "df_filled = df.fillna({\"Age\": mean_age})"
   ]
  },
  {
   "cell_type": "code",
   "execution_count": 10,
   "id": "b404b417",
   "metadata": {},
   "outputs": [
    {
     "data": {
      "text/plain": [
       "0"
      ]
     },
     "execution_count": 10,
     "metadata": {},
     "output_type": "execute_result"
    }
   ],
   "source": [
    "df_filled.filter(f.col(\"Age\").isNull()).count()"
   ]
  },
  {
   "cell_type": "markdown",
   "id": "35cbf0b4",
   "metadata": {},
   "source": [
    "5. Save the output to a CSV file in HDFS (depi_folder)."
   ]
  },
  {
   "cell_type": "code",
   "execution_count": 16,
   "id": "f8278103",
   "metadata": {},
   "outputs": [],
   "source": [
    "df_filled.write.mode(\"overwrite\").csv(\"hdfs://namenode:9000/depi_folder\", header=True)\n"
   ]
  },
  {
   "cell_type": "markdown",
   "id": "a099667c",
   "metadata": {},
   "source": []
  },
  {
   "cell_type": "markdown",
   "id": "9710c5fd",
   "metadata": {},
   "source": [
    "6. Count the total number of passengers who survived and those who did not."
   ]
  },
  {
   "cell_type": "code",
   "execution_count": 17,
   "id": "7e8db767",
   "metadata": {},
   "outputs": [
    {
     "name": "stdout",
     "output_type": "stream",
     "text": [
      "number of passengers survived is  342 \n",
      " and number of deaths is 549\n"
     ]
    }
   ],
   "source": [
    "survived =df_filled.filter(f.col(\"Survived\")== 1).count()\n",
    "death = df_filled.filter(f.col(\"Survived\")== 0).count()\n",
    "print(f\"number of passengers survived is  {survived} \\n and number of deaths is {death}\")"
   ]
  },
  {
   "cell_type": "markdown",
   "id": "fb6a16aa",
   "metadata": {},
   "source": [
    "7. Find the top 5 most common embarkation ports among passengers."
   ]
  },
  {
   "cell_type": "code",
   "execution_count": 18,
   "id": "9d8e0cad",
   "metadata": {},
   "outputs": [
    {
     "name": "stdout",
     "output_type": "stream",
     "text": [
      "root\n",
      " |-- PassengerId: integer (nullable = true)\n",
      " |-- Survived: integer (nullable = true)\n",
      " |-- Pclass: integer (nullable = true)\n",
      " |-- Name: string (nullable = true)\n",
      " |-- gender: string (nullable = true)\n",
      " |-- Age: double (nullable = true)\n",
      " |-- SibSp: integer (nullable = true)\n",
      " |-- Parch: integer (nullable = true)\n",
      " |-- Ticket: string (nullable = true)\n",
      " |-- Fare: double (nullable = true)\n",
      " |-- Cabin: string (nullable = true)\n",
      " |-- Embarked: string (nullable = true)\n",
      "\n"
     ]
    }
   ],
   "source": [
    "df.printSchema()"
   ]
  },
  {
   "cell_type": "code",
   "execution_count": 19,
   "id": "666485f5",
   "metadata": {},
   "outputs": [
    {
     "name": "stdout",
     "output_type": "stream",
     "text": [
      "+--------+\n",
      "|Embarked|\n",
      "+--------+\n",
      "|       Q|\n",
      "|       C|\n",
      "|       S|\n",
      "|    NULL|\n",
      "+--------+\n",
      "\n"
     ]
    }
   ],
   "source": [
    "df.select(\"Embarked\").distinct().show()"
   ]
  },
  {
   "cell_type": "code",
   "execution_count": 20,
   "id": "7985972e",
   "metadata": {},
   "outputs": [
    {
     "name": "stdout",
     "output_type": "stream",
     "text": [
      "+--------+-----+\n",
      "|Embarked|count|\n",
      "+--------+-----+\n",
      "|       S|  644|\n",
      "|       C|  168|\n",
      "|       Q|   77|\n",
      "|    NULL|    2|\n",
      "+--------+-----+\n",
      "\n"
     ]
    }
   ],
   "source": [
    "df.groupby(\"Embarked\").count().orderBy(f.desc(\"count\")).show()"
   ]
  },
  {
   "cell_type": "code",
   "execution_count": 22,
   "id": "6fd35f83",
   "metadata": {},
   "outputs": [
    {
     "data": {
      "text/html": [
       "<div>\n",
       "<style scoped>\n",
       "    .dataframe tbody tr th:only-of-type {\n",
       "        vertical-align: middle;\n",
       "    }\n",
       "\n",
       "    .dataframe tbody tr th {\n",
       "        vertical-align: top;\n",
       "    }\n",
       "\n",
       "    .dataframe thead th {\n",
       "        text-align: right;\n",
       "    }\n",
       "</style>\n",
       "<table border=\"1\" class=\"dataframe\">\n",
       "  <thead>\n",
       "    <tr style=\"text-align: right;\">\n",
       "      <th></th>\n",
       "      <th>PassengerId</th>\n",
       "      <th>Survived</th>\n",
       "      <th>Pclass</th>\n",
       "      <th>Name</th>\n",
       "      <th>gender</th>\n",
       "      <th>Age</th>\n",
       "      <th>SibSp</th>\n",
       "      <th>Parch</th>\n",
       "      <th>Ticket</th>\n",
       "      <th>Fare</th>\n",
       "      <th>Cabin</th>\n",
       "      <th>Embarked</th>\n",
       "    </tr>\n",
       "  </thead>\n",
       "  <tbody>\n",
       "    <tr>\n",
       "      <th>0</th>\n",
       "      <td>1</td>\n",
       "      <td>0</td>\n",
       "      <td>3</td>\n",
       "      <td>Braund, Mr. Owen Harris</td>\n",
       "      <td>male</td>\n",
       "      <td>22.0</td>\n",
       "      <td>1</td>\n",
       "      <td>0</td>\n",
       "      <td>A/5 21171</td>\n",
       "      <td>7.2500</td>\n",
       "      <td>NaN</td>\n",
       "      <td>S</td>\n",
       "    </tr>\n",
       "    <tr>\n",
       "      <th>1</th>\n",
       "      <td>2</td>\n",
       "      <td>1</td>\n",
       "      <td>1</td>\n",
       "      <td>Cumings, Mrs. John Bradley (Florence Briggs Th...</td>\n",
       "      <td>female</td>\n",
       "      <td>38.0</td>\n",
       "      <td>1</td>\n",
       "      <td>0</td>\n",
       "      <td>PC 17599</td>\n",
       "      <td>71.2833</td>\n",
       "      <td>C85</td>\n",
       "      <td>C</td>\n",
       "    </tr>\n",
       "    <tr>\n",
       "      <th>2</th>\n",
       "      <td>3</td>\n",
       "      <td>1</td>\n",
       "      <td>3</td>\n",
       "      <td>Heikkinen, Miss. Laina</td>\n",
       "      <td>female</td>\n",
       "      <td>26.0</td>\n",
       "      <td>0</td>\n",
       "      <td>0</td>\n",
       "      <td>STON/O2. 3101282</td>\n",
       "      <td>7.9250</td>\n",
       "      <td>NaN</td>\n",
       "      <td>S</td>\n",
       "    </tr>\n",
       "    <tr>\n",
       "      <th>3</th>\n",
       "      <td>4</td>\n",
       "      <td>1</td>\n",
       "      <td>1</td>\n",
       "      <td>Futrelle, Mrs. Jacques Heath (Lily May Peel)</td>\n",
       "      <td>female</td>\n",
       "      <td>35.0</td>\n",
       "      <td>1</td>\n",
       "      <td>0</td>\n",
       "      <td>113803</td>\n",
       "      <td>53.1000</td>\n",
       "      <td>C123</td>\n",
       "      <td>S</td>\n",
       "    </tr>\n",
       "    <tr>\n",
       "      <th>4</th>\n",
       "      <td>5</td>\n",
       "      <td>0</td>\n",
       "      <td>3</td>\n",
       "      <td>Allen, Mr. William Henry</td>\n",
       "      <td>male</td>\n",
       "      <td>35.0</td>\n",
       "      <td>0</td>\n",
       "      <td>0</td>\n",
       "      <td>373450</td>\n",
       "      <td>8.0500</td>\n",
       "      <td>NaN</td>\n",
       "      <td>S</td>\n",
       "    </tr>\n",
       "  </tbody>\n",
       "</table>\n",
       "</div>"
      ],
      "text/plain": [
       "   PassengerId  Survived  Pclass  \\\n",
       "0            1         0       3   \n",
       "1            2         1       1   \n",
       "2            3         1       3   \n",
       "3            4         1       1   \n",
       "4            5         0       3   \n",
       "\n",
       "                                                Name  gender   Age  SibSp  \\\n",
       "0                            Braund, Mr. Owen Harris    male  22.0      1   \n",
       "1  Cumings, Mrs. John Bradley (Florence Briggs Th...  female  38.0      1   \n",
       "2                             Heikkinen, Miss. Laina  female  26.0      0   \n",
       "3       Futrelle, Mrs. Jacques Heath (Lily May Peel)  female  35.0      1   \n",
       "4                           Allen, Mr. William Henry    male  35.0      0   \n",
       "\n",
       "   Parch            Ticket     Fare Cabin Embarked  \n",
       "0      0         A/5 21171   7.2500   NaN        S  \n",
       "1      0          PC 17599  71.2833   C85        C  \n",
       "2      0  STON/O2. 3101282   7.9250   NaN        S  \n",
       "3      0            113803  53.1000  C123        S  \n",
       "4      0            373450   8.0500   NaN        S  "
      ]
     },
     "execution_count": 22,
     "metadata": {},
     "output_type": "execute_result"
    }
   ],
   "source": [
    "import pandas as pd\n",
    "data = pd.read_csv(\"/data/titanic.csv\")\n",
    "data.head(5)\n"
   ]
  },
  {
   "cell_type": "markdown",
   "id": "adca35aa",
   "metadata": {},
   "source": [
    "8. Calculate the survival rate by passenger class (Pclass)."
   ]
  },
  {
   "cell_type": "code",
   "execution_count": 23,
   "id": "83ecd8ea",
   "metadata": {},
   "outputs": [
    {
     "name": "stdout",
     "output_type": "stream",
     "text": [
      "+------+-----+--------------+-------------------+\n",
      "|Pclass|Total|Survived_Count|      Survival_Rate|\n",
      "+------+-----+--------------+-------------------+\n",
      "|     1|  216|           136| 0.6296296296296297|\n",
      "|     2|  184|            87|0.47282608695652173|\n",
      "|     3|  491|           119|0.24236252545824846|\n",
      "+------+-----+--------------+-------------------+\n",
      "\n"
     ]
    }
   ],
   "source": [
    "survival_stats = (\n",
    "    df.groupBy(\"Pclass\")\n",
    "      .agg(\n",
    "          f.count(\"*\").alias(\"Total\"),\n",
    "          f.sum(f.col(\"Survived\")).alias(\"Survived_Count\")\n",
    "      )\n",
    "      .withColumn(\"Survival_Rate\", f.col(\"Survived_Count\") / f.col(\"Total\"))\n",
    "      .orderBy(\"Pclass\")\n",
    ")\n",
    "\n",
    "survival_stats.show()\n"
   ]
  },
  {
   "cell_type": "markdown",
   "id": "06b6983a",
   "metadata": {},
   "source": [
    "9. Determine the maximum, minimum, and average fare paid by passengers."
   ]
  },
  {
   "cell_type": "code",
   "execution_count": 24,
   "id": "7333f8aa",
   "metadata": {},
   "outputs": [
    {
     "name": "stdout",
     "output_type": "stream",
     "text": [
      "+---------+\n",
      "|max(Fare)|\n",
      "+---------+\n",
      "| 512.3292|\n",
      "+---------+\n",
      "\n",
      "+---------+\n",
      "|min(Fare)|\n",
      "+---------+\n",
      "|      0.0|\n",
      "+---------+\n",
      "\n",
      "+----------------+\n",
      "|       avg(Fare)|\n",
      "+----------------+\n",
      "|32.2042079685746|\n",
      "+----------------+\n",
      "\n"
     ]
    }
   ],
   "source": [
    "df.agg(f.max(\"Fare\")).show()\n",
    "df.agg(f.min(\"Fare\")).show()\n",
    "df.agg(f.mean(\"Fare\")).show()"
   ]
  },
  {
   "cell_type": "markdown",
   "id": "2b4999b6",
   "metadata": {},
   "source": [
    "10. Write a Spark job to count the number of passengers in each age group (e.g., 0–18, 19–35, 36–60, 60+)."
   ]
  },
  {
   "cell_type": "code",
   "execution_count": 25,
   "id": "81af09dc",
   "metadata": {},
   "outputs": [
    {
     "name": "stdout",
     "output_type": "stream",
     "text": [
      "+--------+-----+\n",
      "|AgeGroup|count|\n",
      "+--------+-----+\n",
      "|   19-35|  535|\n",
      "|     60+|   22|\n",
      "|   36-60|  195|\n",
      "|    0-18|  139|\n",
      "+--------+-----+\n",
      "\n"
     ]
    }
   ],
   "source": [
    "df_age_grouped = df_filled.withColumn(\n",
    "    \"AgeGroup\",\n",
    "    f.when(f.col(\"Age\") <= 18, \"0-18\")\n",
    "     .when((f.col(\"Age\") > 18) & (f.col(\"Age\") <= 35), \"19-35\")\n",
    "     .when((f.col(\"Age\") > 35) & (f.col(\"Age\") <= 60), \"36-60\")\n",
    "     .otherwise(\"60+\")\n",
    ")\n",
    "\n",
    "df_age_grouped.groupby(\"AgeGroup\").count().show()"
   ]
  },
  {
   "cell_type": "markdown",
   "id": "c6d9773e",
   "metadata": {},
   "source": [
    "11. Create a new directory in HDFS called titanic_lab and list its contents.\n",
    "\n",
    "12. Upload the Titanic dataset from your local machine to the titanic_lab directory in HDFS.\n",
    "\n",
    "13. Use chmod command to change the permissions of the Titanic dataset file to 777 (full permissionsfor all)\n",
    "\n",
    "14. Use-cat to display the first 20 lines of the Titanic dataset stored in HDFS.\n",
    "\n",
    "15- Move the processed output file from titanic_lab to a new directory in HDFS called titanic_results using hdfs dfs -mv.\n"
   ]
  },
  {
   "cell_type": "code",
   "execution_count": null,
   "id": "5711b76d",
   "metadata": {},
   "outputs": [],
   "source": [
    "#all commands\n",
    "!root@c9e0bf9264de:/# hdfs dfs -mkdir  /titanic_lab\n",
    "!root@c9e0bf9264de:/# hdfs dfs -ls /titanic_lab\n",
    "\n",
    "\n",
    "!root@c9e0bf9264de:/# hdfs dfs -chmod 777 /titanic_lab/titanic.csv\n",
    "!root@c9e0bf9264de:/# hdfs dfs -cat /titanic_lab/titanic.csv | head -n 20 \n",
    "\n",
    "#1,0,3,\"Braund, Mr. Owen Harris\",male,22,1,0,A/5 21171,7.25,,S\n",
    "# 2,1,1,\"Cumings, Mrs. John Bradley (Florence Briggs Thayer)\",female,38,1,0,PC 17599,71.2833,C85,C\n",
    "# 3,1,3,\"Heikkinen, Miss. Laina\",female,26,0,0,STON/O2. 3101282,7.925,,S\n",
    "# 4,1,1,\"Futrelle, Mrs. Jacques Heath (Lily May Peel)\",female,35,1,0,113803,53.1,C123,S\n",
    "# 5,0,3,\"Allen, Mr. William Henry\",male,35,0,0,373450,8.05,,S\n",
    "# 6,0,3,\"Moran, Mr. James\",male,,0,0,330877,8.4583,,Q\n",
    "# 7,0,1,\"McCarthy, Mr. Timothy J\",male,54,0,0,17463,51.8625,E46,S\n",
    "\n",
    "\n",
    "\n",
    "!root@c9e0bf9264de:/# hdfs dfs -mkdir /titanic_results\n",
    "!hdfs dfs -mv /titanic_lab/titanic.csv /titanic_results/\n"
   ]
  }
 ],
 "metadata": {
  "kernelspec": {
   "display_name": "Python 3 (ipykernel)",
   "language": "python",
   "name": "python3"
  },
  "language_info": {
   "codemirror_mode": {
    "name": "ipython",
    "version": 3
   },
   "file_extension": ".py",
   "mimetype": "text/x-python",
   "name": "python",
   "nbconvert_exporter": "python",
   "pygments_lexer": "ipython3",
   "version": "3.11.6"
  }
 },
 "nbformat": 4,
 "nbformat_minor": 5
}
